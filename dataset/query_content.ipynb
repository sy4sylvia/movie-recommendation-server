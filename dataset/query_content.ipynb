{
 "cells": [
  {
   "cell_type": "code",
   "execution_count": 1,
   "id": "001426c6-3ef2-4b0c-9d86-594a7dd2047b",
   "metadata": {
    "tags": []
   },
   "outputs": [],
   "source": [
    "import pandas as pd\n",
    "# abandoned version\n",
    "\n",
    "movies = pd.read_csv('movies.csv')"
   ]
  },
  {
   "cell_type": "code",
   "execution_count": 2,
   "id": "d21ac5b5-ddb8-47e5-a357-26f04e4ba474",
   "metadata": {
    "tags": []
   },
   "outputs": [],
   "source": [
    "# get_year extracts year from the title column\n",
    "def get_year(title):\n",
    "    year = title[len(title) - 5:len(title) - 1]\n",
    "    return year\n",
    "\n",
    "# get_title extracts the movie title from the title column\n",
    "def get_title(title):\n",
    "    return title[: len(title) - 7]\n",
    "\n",
    "movies.rename(columns = {'title': 'movie_year'}, inplace = True)\n",
    "\n",
    "movies['title'] = movies['movie_year'].apply(get_title)\n",
    "movies['year'] = movies['movie_year'].apply(get_year)"
   ]
  },
  {
   "cell_type": "code",
   "execution_count": 3,
   "id": "d85af678-239c-4ab5-b93b-1024becb8b14",
   "metadata": {},
   "outputs": [
    {
     "name": "stderr",
     "output_type": "stream",
     "text": [
      "/var/folders/j6/f1x21vb979q89x855nmy6fn00000gn/T/ipykernel_38413/4141627730.py:1: FutureWarning: The default value of regex will change from True to False in a future version. In addition, single character regular expressions will *not* be treated as literal strings when regex=True.\n",
      "  movies['genres'] = movies['genres'].str.replace('|' ,' ')\n"
     ]
    }
   ],
   "source": [
    "movies['genres'] = movies['genres'].str.replace('|' ,' ')\n",
    "\n",
    "# create a hashmap to store counts of genres\n",
    "freq_map = dict()\n",
    "for i in movies.index:\n",
    "    for genre in movies.loc[i, 'genres'].split(' '):\n",
    "        if genre not in freq_map:\n",
    "            freq_map[genre] = 1\n",
    "        else:\n",
    "            freq_map[genre] = freq_map[genre] + 1\n",
    "\n",
    "# create a bar chart\n",
    "# plt.bar(list(counts.keys()), counts.values(), color='g')\n",
    "# plt.xticks(rotation=45)\n",
    "# plt.xlabel('Genres')\n",
    "# plt.ylabel('Counts')"
   ]
  },
  {
   "cell_type": "code",
   "execution_count": 4,
   "id": "c6dfd4b3-be84-4788-9d22-36fdff994901",
   "metadata": {},
   "outputs": [],
   "source": [
    "# Step 1: Quantify the features for each movie (tf-idf)"
   ]
  },
  {
   "cell_type": "code",
   "execution_count": 4,
   "id": "3b5ce515-b651-49b7-bd25-dfd58901df1d",
   "metadata": {},
   "outputs": [
    {
     "data": {
      "text/plain": [
       "(9742, 21)"
      ]
     },
     "execution_count": 4,
     "metadata": {},
     "output_type": "execute_result"
    }
   ],
   "source": [
    "from sklearn.feature_extraction.text import TfidfVectorizer\n",
    "\n",
    "# remove special characters\n",
    "movies['genres'] = movies['genres'].str.replace('Film-Noir','Noir')\n",
    "movies['genres'] = movies['genres'].str.replace('Sci-Fi','SciFi')\n",
    "\n",
    "tfidf_vector = TfidfVectorizer(stop_words='english')\n",
    "tfidf_matrix = tfidf_vector.fit_transform(movies['genres'])\n",
    "\n",
    "tfidf_matrix.shape"
   ]
  },
  {
   "cell_type": "code",
   "execution_count": 5,
   "id": "b9a9f0e1-f330-4718-b5d8-4544b6ad8cdf",
   "metadata": {},
   "outputs": [
    {
     "name": "stdout",
     "output_type": "stream",
     "text": [
      "[(0, 'action'), (1, 'adventure'), (2, 'animation'), (3, 'children'), (4, 'comedy'), (5, 'crime'), (6, 'documentary'), (7, 'drama'), (8, 'fantasy'), (9, 'genres'), (10, 'horror'), (11, 'imax'), (12, 'listed'), (13, 'musical'), (14, 'mystery'), (15, 'noir'), (16, 'romance'), (17, 'scifi'), (18, 'thriller'), (19, 'war'), (20, 'western')]\n"
     ]
    }
   ],
   "source": [
    "print(list(enumerate(tfidf_vector.get_feature_names_out())))"
   ]
  },
  {
   "cell_type": "code",
   "execution_count": 10,
   "id": "57986e5f-18a6-4141-8a6a-c73ec3b1a014",
   "metadata": {},
   "outputs": [],
   "source": [
    "# Step 2: Calculate the Cosine Similarity between movies"
   ]
  },
  {
   "cell_type": "code",
   "execution_count": 6,
   "id": "57e9498a-cea6-44f8-82df-ade8ca025aa1",
   "metadata": {},
   "outputs": [
    {
     "name": "stdout",
     "output_type": "stream",
     "text": [
      "[[1.         0.81357774 0.15276924 ... 0.         0.4210373  0.26758648]\n",
      " [0.81357774 1.         0.         ... 0.         0.         0.        ]\n",
      " [0.15276924 0.         1.         ... 0.         0.         0.57091541]\n",
      " ...\n",
      " [0.         0.         0.         ... 1.         0.         0.        ]\n",
      " [0.4210373  0.         0.         ... 0.         1.         0.        ]\n",
      " [0.26758648 0.         0.57091541 ... 0.         0.         1.        ]]\n"
     ]
    }
   ],
   "source": [
    "from sklearn.metrics.pairwise import linear_kernel\n",
    "\n",
    "sim_matrix = linear_kernel(tfidf_matrix,tfidf_matrix) \n",
    "print(sim_matrix)"
   ]
  },
  {
   "cell_type": "code",
   "execution_count": 7,
   "id": "0d48aa92-78c6-4485-9519-5b714a80ba09",
   "metadata": {},
   "outputs": [
    {
     "data": {
      "text/plain": [
       "(9742, 9742)"
      ]
     },
     "execution_count": 7,
     "metadata": {},
     "output_type": "execute_result"
    }
   ],
   "source": [
    "sim_matrix.shape"
   ]
  },
  {
   "cell_type": "code",
   "execution_count": 8,
   "id": "679f2ecc-0fdf-4b8e-9874-89577d364fde",
   "metadata": {
    "tags": []
   },
   "outputs": [],
   "source": [
    "# apply Levenshtein Distance, in case of typo\n",
    "from fuzzywuzzy import fuzz\n",
    "# create a function to find the closest title\n",
    "def matching_score(a,b):\n",
    "    return fuzz.ratio(a,b)  # if no typo, the score would be 100"
   ]
  },
  {
   "cell_type": "code",
   "execution_count": 9,
   "id": "ed811220-8d2f-45c0-b13f-d353a47f2f60",
   "metadata": {},
   "outputs": [],
   "source": [
    "# get_title_year_from_index converts index to title_year\n",
    "def get_title_year_from_index(index):\n",
    "    return movies[movies.index == index]['movie_year'].values[0]\n",
    "\n",
    "# get_title_from_index converts index to title\n",
    "def get_title_from_index(index):\n",
    "    return movies[movies.index == index]['title'].values[0]\n",
    "\n",
    "# get_index_from_title converts title to index\n",
    "def get_index_from_title(title):\n",
    "    return movies[movies.title == title].index.values[0]\n",
    "\n",
    "# find_closest_title returns the most similar title to the words a user type\n",
    "def find_closest_title(title):\n",
    "    leven_scores = list(enumerate(movies['title'].apply(matching_score, b=title)))\n",
    "    sorted_leven_scores = sorted(leven_scores, key=lambda x: x[1], reverse=True)\n",
    "    closest_title = get_title_from_index(sorted_leven_scores[0][0])\n",
    "    distance_score = sorted_leven_scores[0][1]\n",
    "    return closest_title, distance_score"
   ]
  },
  {
   "cell_type": "code",
   "execution_count": 10,
   "id": "7dd33e0e-a90a-4fcd-826d-9fd59103319a",
   "metadata": {},
   "outputs": [],
   "source": [
    "def recommender(movie_titles_user_like, number):\n",
    "    closest_title, distance_score = find_closest_title(movie_titles_user_like)\n",
    "    \n",
    "    if distance_score == 100:\n",
    "        movie_index = get_index_from_title(movie_titles_user_like)\n",
    "        movie_list = list(enumerate(sim_matrix[int(movie_index)]))\n",
    "        \n",
    "        # remove the typed movie itself\n",
    "        similar_movies = list(filter(lambda x :x[0] != int(movie_index), sorted(movie_list,key=lambda x:x[1], reverse = True))) \n",
    "        print('Here\\'s the list of movies similar to '+'\\033[1m'+str(closest_title)+'\\033[0m'+'.\\n')\n",
    "        for i,s in similar_movies[: number]:\n",
    "            print(get_title_year_from_index(i))\n",
    "    # if a typo appears        \n",
    "    else:\n",
    "        print('Did you mean '+'\\033[1m'+str(closest_title)+'\\033[0m'+'?','\\n')\n",
    "        movie_index = get_index_from_title(closest_title)\n",
    "        movie_list = list(enumerate(sim_matrix[int(movie_index)]))\n",
    "        \n",
    "        # remove the typed movie itself\n",
    "        similar_movies = list(filter(lambda x :x[0] != int(movie_index), sorted(movie_list,key=lambda x:x[1], reverse = True))) \n",
    "        print('Here\\'s the list of movies similar to '+'\\033[1m'+str(closest_title)+'\\033[0m'+'.\\n')\n",
    "        for i,s in similar_movies[: number]:\n",
    "            print(get_title_year_from_index(i))"
   ]
  },
  {
   "cell_type": "code",
   "execution_count": 11,
   "id": "7ade0409-d212-46e7-91a3-4489393e8f04",
   "metadata": {},
   "outputs": [
    {
     "name": "stdout",
     "output_type": "stream",
     "text": [
      "Here's the list of movies similar to \u001B[1mMonsters, Inc.\u001B[0m.\n",
      "\n",
      "Toy Story (1995)\n",
      "Antz (1998)\n",
      "Toy Story 2 (1999)\n",
      "Adventures of Rocky and Bullwinkle, The (2000)\n",
      "Emperor's New Groove, The (2000)\n",
      "Wild, The (2006)\n",
      "Shrek the Third (2007)\n",
      "Tale of Despereaux, The (2008)\n",
      "Asterix and the Vikings (Astérix et les Vikings) (2006)\n",
      "Turbo (2013)\n",
      "The Good Dinosaur (2015)\n",
      "Moana (2016)\n",
      "Inside Out (2015)\n",
      "Black Cauldron, The (1985)\n",
      "Lord of the Rings, The (1978)\n",
      "We're Back! A Dinosaur's Story (1993)\n",
      "Atlantis: The Lost Empire (2001)\n",
      "Land Before Time, The (1988)\n",
      "Pokemon 4 Ever (a.k.a. Pokémon 4: The Movie) (2002)\n",
      "Sinbad: Legend of the Seven Seas (2003)\n"
     ]
    }
   ],
   "source": [
    "recommender('Monsters, Inc.', 20)"
   ]
  },
  {
   "cell_type": "code",
   "execution_count": null,
   "id": "e0f2cc80-6f2b-4c41-9088-1131091e3ccc",
   "metadata": {},
   "outputs": [],
   "source": []
  }
 ],
 "metadata": {
  "kernelspec": {
   "display_name": "Python 3 (ipykernel)",
   "language": "python",
   "name": "python3"
  },
  "language_info": {
   "codemirror_mode": {
    "name": "ipython",
    "version": 3
   },
   "file_extension": ".py",
   "mimetype": "text/x-python",
   "name": "python",
   "nbconvert_exporter": "python",
   "pygments_lexer": "ipython3",
   "version": "3.9.13"
  }
 },
 "nbformat": 4,
 "nbformat_minor": 5
}
