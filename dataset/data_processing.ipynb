{
 "cells": [
  {
   "cell_type": "code",
   "execution_count": 4,
   "id": "12fc1552-84df-422b-ac45-deec1152214a",
   "metadata": {},
   "outputs": [],
   "source": [
    "import pandas as pd\n",
    "import numpy as np\n",
    "\n",
    "from pandas import DataFrame\n",
    "\n",
    "from itertools import combinations\n",
    "\n",
    "ratings = pd.read_csv('ratings.csv', usecols = ['userId', 'movieId', 'rating'])\n",
    "movies = pd.read_csv('movies.csv')"
   ]
  },
  {
   "cell_type": "code",
   "execution_count": 4,
   "id": "3dc2e2f2-5f9f-4aeb-a48a-41df5217268c",
   "metadata": {},
   "outputs": [
    {
     "data": {
      "text/html": [
       "<div>\n",
       "<style scoped>\n",
       "    .dataframe tbody tr th:only-of-type {\n",
       "        vertical-align: middle;\n",
       "    }\n",
       "\n",
       "    .dataframe tbody tr th {\n",
       "        vertical-align: top;\n",
       "    }\n",
       "\n",
       "    .dataframe thead th {\n",
       "        text-align: right;\n",
       "    }\n",
       "</style>\n",
       "<table border=\"1\" class=\"dataframe\">\n",
       "  <thead>\n",
       "    <tr style=\"text-align: right;\">\n",
       "      <th></th>\n",
       "      <th>userId</th>\n",
       "      <th>movieId</th>\n",
       "      <th>rating</th>\n",
       "    </tr>\n",
       "  </thead>\n",
       "  <tbody>\n",
       "    <tr>\n",
       "      <th>31131</th>\n",
       "      <td>217</td>\n",
       "      <td>1409</td>\n",
       "      <td>2.0</td>\n",
       "    </tr>\n",
       "    <tr>\n",
       "      <th>76853</th>\n",
       "      <td>480</td>\n",
       "      <td>7454</td>\n",
       "      <td>3.0</td>\n",
       "    </tr>\n",
       "    <tr>\n",
       "      <th>67773</th>\n",
       "      <td>438</td>\n",
       "      <td>2501</td>\n",
       "      <td>3.5</td>\n",
       "    </tr>\n",
       "    <tr>\n",
       "      <th>63498</th>\n",
       "      <td>414</td>\n",
       "      <td>3753</td>\n",
       "      <td>3.0</td>\n",
       "    </tr>\n",
       "    <tr>\n",
       "      <th>24072</th>\n",
       "      <td>167</td>\n",
       "      <td>480</td>\n",
       "      <td>3.5</td>\n",
       "    </tr>\n",
       "  </tbody>\n",
       "</table>\n",
       "</div>"
      ],
      "text/plain": [
       "       userId  movieId  rating\n",
       "31131     217     1409     2.0\n",
       "76853     480     7454     3.0\n",
       "67773     438     2501     3.5\n",
       "63498     414     3753     3.0\n",
       "24072     167      480     3.5"
      ]
     },
     "execution_count": 4,
     "metadata": {},
     "output_type": "execute_result"
    }
   ],
   "source": [
    "ratings.sample(5)"
   ]
  },
  {
   "cell_type": "code",
   "execution_count": 5,
   "id": "aea420df-f25f-4e03-9dec-ec9efacf9b8b",
   "metadata": {},
   "outputs": [
    {
     "data": {
      "text/html": [
       "<div>\n",
       "<style scoped>\n",
       "    .dataframe tbody tr th:only-of-type {\n",
       "        vertical-align: middle;\n",
       "    }\n",
       "\n",
       "    .dataframe tbody tr th {\n",
       "        vertical-align: top;\n",
       "    }\n",
       "\n",
       "    .dataframe thead th {\n",
       "        text-align: right;\n",
       "    }\n",
       "</style>\n",
       "<table border=\"1\" class=\"dataframe\">\n",
       "  <thead>\n",
       "    <tr style=\"text-align: right;\">\n",
       "      <th></th>\n",
       "      <th>movieId</th>\n",
       "      <th>title</th>\n",
       "      <th>genres</th>\n",
       "    </tr>\n",
       "  </thead>\n",
       "  <tbody>\n",
       "    <tr>\n",
       "      <th>774</th>\n",
       "      <td>1016</td>\n",
       "      <td>Shaggy Dog, The (1959)</td>\n",
       "      <td>Children|Comedy</td>\n",
       "    </tr>\n",
       "    <tr>\n",
       "      <th>815</th>\n",
       "      <td>1073</td>\n",
       "      <td>Willy Wonka &amp; the Chocolate Factory (1971)</td>\n",
       "      <td>Children|Comedy|Fantasy|Musical</td>\n",
       "    </tr>\n",
       "    <tr>\n",
       "      <th>5080</th>\n",
       "      <td>7991</td>\n",
       "      <td>Death Race 2000 (1975)</td>\n",
       "      <td>Action|Sci-Fi</td>\n",
       "    </tr>\n",
       "    <tr>\n",
       "      <th>9040</th>\n",
       "      <td>141668</td>\n",
       "      <td>War Room (2015)</td>\n",
       "      <td>Drama</td>\n",
       "    </tr>\n",
       "    <tr>\n",
       "      <th>1165</th>\n",
       "      <td>1545</td>\n",
       "      <td>Ponette (1996)</td>\n",
       "      <td>Drama</td>\n",
       "    </tr>\n",
       "  </tbody>\n",
       "</table>\n",
       "</div>"
      ],
      "text/plain": [
       "      movieId                                       title  \\\n",
       "774      1016                      Shaggy Dog, The (1959)   \n",
       "815      1073  Willy Wonka & the Chocolate Factory (1971)   \n",
       "5080     7991                      Death Race 2000 (1975)   \n",
       "9040   141668                             War Room (2015)   \n",
       "1165     1545                              Ponette (1996)   \n",
       "\n",
       "                               genres  \n",
       "774                   Children|Comedy  \n",
       "815   Children|Comedy|Fantasy|Musical  \n",
       "5080                    Action|Sci-Fi  \n",
       "9040                            Drama  \n",
       "1165                            Drama  "
      ]
     },
     "execution_count": 5,
     "metadata": {},
     "output_type": "execute_result"
    }
   ],
   "source": [
    "movies.sample(5)"
   ]
  },
  {
   "cell_type": "code",
   "execution_count": 8,
   "id": "9af9ba3c-febb-4c49-827f-2c6111ce5e34",
   "metadata": {},
   "outputs": [
    {
     "name": "stdout",
     "output_type": "stream",
     "text": [
      "Saved to users.csv\n"
     ]
    },
    {
     "data": {
      "text/html": [
       "<div>\n",
       "<style scoped>\n",
       "    .dataframe tbody tr th:only-of-type {\n",
       "        vertical-align: middle;\n",
       "    }\n",
       "\n",
       "    .dataframe tbody tr th {\n",
       "        vertical-align: top;\n",
       "    }\n",
       "\n",
       "    .dataframe thead th {\n",
       "        text-align: right;\n",
       "    }\n",
       "</style>\n",
       "<table border=\"1\" class=\"dataframe\">\n",
       "  <thead>\n",
       "    <tr style=\"text-align: right;\">\n",
       "      <th></th>\n",
       "      <th>userId</th>\n",
       "    </tr>\n",
       "  </thead>\n",
       "  <tbody>\n",
       "    <tr>\n",
       "      <th>85451</th>\n",
       "      <td>555</td>\n",
       "    </tr>\n",
       "    <tr>\n",
       "      <th>63424</th>\n",
       "      <td>414</td>\n",
       "    </tr>\n",
       "    <tr>\n",
       "      <th>100306</th>\n",
       "      <td>610</td>\n",
       "    </tr>\n",
       "    <tr>\n",
       "      <th>32348</th>\n",
       "      <td>221</td>\n",
       "    </tr>\n",
       "    <tr>\n",
       "      <th>65061</th>\n",
       "      <td>415</td>\n",
       "    </tr>\n",
       "  </tbody>\n",
       "</table>\n",
       "</div>"
      ],
      "text/plain": [
       "        userId\n",
       "85451      555\n",
       "63424      414\n",
       "100306     610\n",
       "32348      221\n",
       "65061      415"
      ]
     },
     "execution_count": 8,
     "metadata": {},
     "output_type": "execute_result"
    }
   ],
   "source": [
    "# first need to determine how to deal with the users.csv\n",
    "USERS_CSV_FILE = 'users.csv'\n",
    "users = pd.read_csv('ratings.csv', usecols = ['userId'])\n",
    "users.to_csv(USERS_CSV_FILE, \n",
    "             sep='\\t', \n",
    "             header=True, \n",
    "             encoding='latin-1',\n",
    "             columns=['userId'])\n",
    "\n",
    "print ('Saved to', USERS_CSV_FILE)\n",
    "users.sample(5)"
   ]
  },
  {
   "cell_type": "code",
   "execution_count": null,
   "id": "a7817025-e390-4373-b1b3-1a51a1685851",
   "metadata": {},
   "outputs": [],
   "source": [
    "# Deal with genres -> here it counts the popularity"
   ]
  },
  {
   "cell_type": "code",
   "execution_count": 9,
   "id": "24d08a3c-ca1c-42ff-9301-80306a0f6c9d",
   "metadata": {},
   "outputs": [
    {
     "name": "stdout",
     "output_type": "stream",
     "text": [
      "        userId\n",
      "0            1\n",
      "1            1\n",
      "2            1\n",
      "3            1\n",
      "4            1\n",
      "...        ...\n",
      "100831     610\n",
      "100832     610\n",
      "100833     610\n",
      "100834     610\n",
      "100835     610\n",
      "\n",
      "[100836 rows x 1 columns]\n"
     ]
    }
   ],
   "source": [
    "df = pd.read_csv(\"ratings.csv\", usecols = ['userId'])\n",
    "print(df)"
   ]
  },
  {
   "cell_type": "code",
   "execution_count": null,
   "id": "a38ea6a4-f87d-4603-a9ea-1dc8380b0255",
   "metadata": {},
   "outputs": [],
   "source": []
  }
 ],
 "metadata": {
  "kernelspec": {
   "display_name": "Python 3 (ipykernel)",
   "language": "python",
   "name": "python3"
  },
  "language_info": {
   "codemirror_mode": {
    "name": "ipython",
    "version": 3
   },
   "file_extension": ".py",
   "mimetype": "text/x-python",
   "name": "python",
   "nbconvert_exporter": "python",
   "pygments_lexer": "ipython3",
   "version": "3.9.13"
  }
 },
 "nbformat": 4,
 "nbformat_minor": 5
}
