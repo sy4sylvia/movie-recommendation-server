{
 "cells": [
  {
   "cell_type": "code",
   "execution_count": 1,
   "id": "f3a4638a-0e96-4960-92c5-6845fd27312b",
   "metadata": {},
   "outputs": [],
   "source": [
    "import pandas as pd\n",
    "import numpy as np\n",
    "from tqdm import tqdm\n",
    "import sqlalchemy\n",
    "import warnings\n",
    "import os\n",
    "\n",
    "warnings.filterwarnings('ignore')\n",
    "\n",
    "ratings = pd.read_csv('ratings.csv', usecols = ['userId', 'movieId', 'rating'])\n",
    "movies = pd.read_csv('movies.csv')\n"
   ]
  },
  {
   "cell_type": "code",
   "execution_count": 2,
   "id": "68cdfc9c-e06f-496d-9a56-a850fa308c33",
   "metadata": {},
   "outputs": [],
   "source": [
    "# movie profile\n",
    "movie_profile = movies"
   ]
  },
  {
   "cell_type": "code",
   "execution_count": 3,
   "id": "d8fe91e7-8375-4f0d-a8cd-2f15d0da2608",
   "metadata": {},
   "outputs": [],
   "source": [
    "all_genres = [s.split(\", \") for s in movies[movies.genres.notnull()].genres]\n",
    "genres = [item.strip() for l in all_genres for item in l ]\n",
    "unique_genres = set(genres)\n",
    "\n",
    "for genre in unique_genres:\n",
    "    movie_profile[genre] = 0"
   ]
  },
  {
   "cell_type": "code",
   "execution_count": 4,
   "id": "f5998bb6-6b64-449a-ac7b-02f87d095fe8",
   "metadata": {},
   "outputs": [],
   "source": [
    "for i in range(len(movie_profile)):\n",
    "    if type(movie_profile['genres'].iloc[i]) != None.__class__:\n",
    "        Genres = movie_profile.iloc[i].genres.split(', ')\n",
    "    for g in Genres:\n",
    "        movie_profile[g].iloc[i] = 1\n",
    "        \n",
    "movie_profile = movie_profile.drop(columns=['title', 'genres']).set_index('movieId')\n",
    "movie_profile.sort_index(axis=0, inplace=True)\n"
   ]
  },
  {
   "cell_type": "code",
   "execution_count": 5,
   "id": "50a46968-cfed-487b-9942-3c1307edf4b3",
   "metadata": {},
   "outputs": [
    {
     "name": "stderr",
     "output_type": "stream",
     "text": [
      "100%|█████████████████████████████████████████| 610/610 [00:12<00:00, 48.30it/s]\n"
     ]
    }
   ],
   "source": [
    "# user profile\n",
    "user_x_movie = pd.pivot_table(ratings, values='rating', index=['movieId'], columns = ['userId'])\n",
    "user_x_movie.sort_index(axis=0, inplace=True)\n",
    "userIDs = user_x_movie.columns\n",
    "user_profile = pd.DataFrame(columns = movie_profile.columns)\n",
    "\n",
    "for i in tqdm(range(len(user_x_movie.columns))):\n",
    "    working_df = movie_profile.mul(user_x_movie.iloc[:,i], axis=0)\n",
    "    # working_df.replace(0, np.NaN, inplace=True)    \n",
    "    user_profile.loc[userIDs[i]] = working_df.mean(axis=0)  "
   ]
  },
  {
   "cell_type": "code",
   "execution_count": 6,
   "id": "1d2639d8-f03a-49ef-acaf-ed30d6b6a814",
   "metadata": {},
   "outputs": [
    {
     "name": "stderr",
     "output_type": "stream",
     "text": [
      "100%|█████████████████████████████████████████| 610/610 [00:10<00:00, 60.82it/s]\n"
     ]
    }
   ],
   "source": [
    "# TFIDF\n",
    "df = movie_profile.sum()\n",
    "idf = (len(movies)/df).apply(np.log) #log inverse of DF\n",
    "TFIDF = movie_profile.mul(idf.values)\n",
    "\n",
    "# recommendation prediction\n",
    "df_predict = pd.DataFrame()\n",
    "\n",
    "for i in tqdm(range(len(user_x_movie.columns))):\n",
    "    working_df = TFIDF.mul(user_profile.iloc[i], axis=1)\n",
    "    df_predict[user_x_movie.columns[i]] = working_df.sum(axis=1) "
   ]
  },
  {
   "cell_type": "code",
   "execution_count": 11,
   "id": "2f19e327-5474-44fe-8998-ae0e20e3fb56",
   "metadata": {},
   "outputs": [
    {
     "name": "stdout",
     "output_type": "stream",
     "text": [
      "Int64Index([  1,   2,   3,   4,   5,   6,   7,   8,   9,  10,\n",
      "            ...\n",
      "            601, 602, 603, 604, 605, 606, 607, 608, 609, 610],\n",
      "           dtype='int64', name='userId', length=610)\n"
     ]
    }
   ],
   "source": [
    "print(userIDs)"
   ]
  },
  {
   "cell_type": "code",
   "execution_count": null,
   "id": "056b2590-9f9f-430f-9877-b209c8fda33d",
   "metadata": {},
   "outputs": [],
   "source": []
  },
  {
   "cell_type": "code",
   "execution_count": null,
   "id": "1c5743e1-3058-40d8-b188-e687f2d380f5",
   "metadata": {},
   "outputs": [],
   "source": []
  }
 ],
 "metadata": {
  "kernelspec": {
   "display_name": "Python 3 (ipykernel)",
   "language": "python",
   "name": "python3"
  },
  "language_info": {
   "codemirror_mode": {
    "name": "ipython",
    "version": 3
   },
   "file_extension": ".py",
   "mimetype": "text/x-python",
   "name": "python",
   "nbconvert_exporter": "python",
   "pygments_lexer": "ipython3",
   "version": "3.9.7"
  }
 },
 "nbformat": 4,
 "nbformat_minor": 5
}
